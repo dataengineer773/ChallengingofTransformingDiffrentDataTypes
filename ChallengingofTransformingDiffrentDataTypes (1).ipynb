{
 "cells": [
  {
   "cell_type": "code",
   "execution_count": null,
   "id": "40eee203-4838-447b-a78b-f48154c218d3",
   "metadata": {},
   "outputs": [],
   "source": [
    "# prepare transform\n",
    "scaler = MinMaxScaler()\n",
    "# fit transform on training data\n",
    "scaler.fit(train_X)\n",
    "# transform training data\n",
    "train_X = scaler.transform(train_X)"
   ]
  },
  {
   "cell_type": "code",
   "execution_count": null,
   "id": "1bcfd3ff-544f-4920-8529-c8576a6e4355",
   "metadata": {},
   "outputs": [],
   "source": [
    "# Sequance of diffrent transform can also be chained together using the Pipeline. such as imuting missing values values, then scaling nemerical value\n",
    "# define pipeline\n",
    "pipeline Pipeline(steps=[('l', SimpleTmputer(strategy='median')), ('s', MinMaxScaler())])\n",
    "# transform training data\n",
    "train_X = scaler.transform(train_X)"
   ]
  }
 ],
 "metadata": {
  "kernelspec": {
   "display_name": "Python 3 (ipykernel)",
   "language": "python",
   "name": "python3"
  },
  "language_info": {
   "codemirror_mode": {
    "name": "ipython",
    "version": 3
   },
   "file_extension": ".py",
   "mimetype": "text/x-python",
   "name": "python",
   "nbconvert_exporter": "python",
   "pygments_lexer": "ipython3",
   "version": "3.10.12"
  }
 },
 "nbformat": 4,
 "nbformat_minor": 5
}
